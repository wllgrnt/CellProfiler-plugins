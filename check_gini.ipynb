{
 "cells": [
  {
   "cell_type": "markdown",
   "metadata": {},
   "source": [
    "# check_gini.ipynb\n",
    "\n",
    "Check the logic in the plugin, on fiji pixel data."
   ]
  },
  {
   "cell_type": "code",
   "execution_count": 8,
   "metadata": {},
   "outputs": [],
   "source": [
    "import pandas as pd\n",
    "import numpy as np \n",
    "\n",
    "# Read all the sheets in cell_pixel_values.xlsx\n",
    "xls = pd.ExcelFile('cell_pixel_values.xlsx')\n",
    "sheet_to_df_map = {}\n",
    "for sheet_name in xls.sheet_names:\n",
    "    sheet_to_df_map[sheet_name] = xls.parse(sheet_name)\n"
   ]
  },
  {
   "cell_type": "code",
   "execution_count": 37,
   "metadata": {},
   "outputs": [],
   "source": [
    "\n",
    "\n",
    "def get_gini_on_pixels_2(pixels):\n",
    "    '''Given an array of pixels, get the Gini coefficient\n",
    "    \n",
    "    This entails generating a histogram of pixel values, calculating the CDF,\n",
    "    and then calculating the Gini coefficient from the CDF.\n",
    "\n",
    "    Assumes intensties are always positive.\n",
    "    '''\n",
    "    sorted_pixels = np.sort(pixels.flatten())\n",
    "    if np.all(sorted_pixels == 0):\n",
    "        return 0\n",
    "    \n",
    "    cum_values = np.cumsum(sorted_pixels, dtype=float) \n",
    "    cum_values /= cum_values[-1]\n",
    "\n",
    "    indices = np.arange(1, len(sorted_pixels) + 1)\n",
    "    gini = 1 - 2 * np.sum((cum_values - indices / len(sorted_pixels)) / len(sorted_pixels))\n",
    "    return gini\n",
    "\n",
    "\n",
    "def get_gini_on_pixels(pixels):\n",
    "    '''Given an array of pixels, get the Gini coefficient'''\n",
    "\n",
    "    sorted_values = np.sort(pixels.flatten())\n",
    "    \n",
    "    mean = np.mean(sorted_values)\n",
    "    \n",
    "    n = len(sorted_values)\n",
    "    cumulative_sum = np.cumsum(sorted_values)\n",
    "    gini_numerator = np.sum((2 * np.arange(1, n+1) - n - 1) * cumulative_sum)\n",
    "    gini_denominator = n * np.sum(sorted_values)\n",
    "    gini = (1 / (n * mean)) * (gini_numerator / gini_denominator)\n",
    "    \n",
    "    return gini\n",
    "\n",
    "\n",
    "def gini_coefficient(pixels):\n",
    "    n = len(pixels)\n",
    "    r = np.apply_along_axis(lambda x: np.argsort(x), 0, pixels)\n",
    "    s = np.sum(pixels)\n",
    "    sum_r = np.sum((n - r) * pixels)\n",
    "    gini = 1 - (2 * sum_r - s) / (n * s)\n",
    "    return gini"
   ]
  },
  {
   "cell_type": "code",
   "execution_count": 38,
   "metadata": {},
   "outputs": [],
   "source": [
    "import pandas as pd\n",
    "import numpy as np\n",
    "\n",
    "def calculate_gini(df):\n",
    "    # Sorting the DataFrame by bin number\n",
    "    df_sorted = df.sort_values('bin_number')\n",
    "    \n",
    "    # Calculating cumulative population and cumulative wealth\n",
    "    df_sorted['cumulative_population'] = df_sorted['frequency'].cumsum()\n",
    "    df_sorted['cumulative_wealth'] = df_sorted['bin_number'] * df_sorted['frequency']\n",
    "    df_sorted['cumulative_wealth'] = df_sorted['cumulative_wealth'].cumsum()\n",
    "    \n",
    "    # Normalizing the cumulative values to go from 0 to 1\n",
    "    total_population = df_sorted['frequency'].sum()\n",
    "    total_wealth = df_sorted['bin_number'].dot(df_sorted['frequency'])\n",
    "    df_sorted['cumulative_population'] /= total_population\n",
    "    df_sorted['cumulative_wealth'] /= total_wealth\n",
    "\n",
    "    # Adding (0,0) as the starting point for Lorenz curve\n",
    "    lorenz_points = pd.concat([pd.DataFrame({'cumulative_population': [0], 'cumulative_wealth': [0]}),\n",
    "                               df_sorted[['cumulative_population', 'cumulative_wealth']]])\n",
    "\n",
    "    # Calculating the area under the Lorenz curve using the trapezoidal rule\n",
    "    area_under_lorenz = np.trapz(lorenz_points['cumulative_wealth'], lorenz_points['cumulative_population'])\n",
    "\n",
    "    # Gini coefficient is 1 - 2 * area under the Lorenz curve\n",
    "    gini_coefficient = 1 - 2 * area_under_lorenz\n",
    "    return gini_coefficient\n",
    "\n",
    "# Example DataFrame\n",
    "data = {\n",
    "    'bin_number': [1, 2, 3, 4, 5],  # Example bin numbers\n",
    "    'frequency': [10, 20, 30, 25, 15]  # Example frequencies\n",
    "}\n",
    "df = pd.DataFrame(data)\n",
    "\n",
    "# Calculate Gini coefficient\n",
    "# gini_coefficient = calculate_gini(df)\n",
    "# print(\"Gini Coefficient:\", gini_coefficient)"
   ]
  },
  {
   "cell_type": "code",
   "execution_count": 40,
   "metadata": {},
   "outputs": [
    {
     "name": "stdout",
     "output_type": "stream",
     "text": [
      "spot_cell1 0.0009871598506813006 0.871500120618308 0.01090125689201904 1.0913956152542617\n",
      "spot_cell2 0.0008810436495270134 0.8107279409811163 0.028999748839063977 1.1353461351910867\n",
      "spot_cell3 0.0009446751784375515 0.9347834262558644 0.029093427662439275 1.1100070236669346\n",
      "spot_cell4 0.0009799976295398571 0.9494475891700198 0.0023172943468358076 1.0986256298668848\n",
      "spot_cell5 0.0009301623566072118 0.6717689743336877 0.008776247242351598 1.1193364427694055\n",
      "nospot_cell1 0.0010241727789810763 0.32277552376380947 0.0020518881888913487 1.0561731142487887\n",
      "nospot_cell2 0.0010947658781050773 0.26375249738592377 -0.0007464038269799911 1.0408459404134005\n",
      "nospot_cell3 0.001047447762712282 0.337731306608235 0.001414519118661306 1.0604812337112413\n",
      "nospot_cell4 0.001123694938973693 0.3080956575231384 0.004649427118837535 1.0496390140160996\n",
      "nospot_cell5 0.001148349045148195 0.2841773412193539 0.0005080363937630672 1.0410462269189622\n"
     ]
    }
   ],
   "source": [
    "for name, sheet in sheet_to_df_map.items():\n",
    "    hist, _ = np.histogram(sheet.values)\n",
    "    df = pd.DataFrame({'bin_number': range(len(hist)), 'frequency': hist})\n",
    "    print(name,\n",
    "           get_gini_on_pixels(sheet.values),\n",
    "             calculate_gini(df),\n",
    "               gini_coefficient(sheet.values.flatten()), \n",
    "               get_gini_on_pixels_2(sheet.values)\n",
    "    )\n"
   ]
  },
  {
   "cell_type": "code",
   "execution_count": 49,
   "metadata": {},
   "outputs": [
    {
     "name": "stdout",
     "output_type": "stream",
     "text": [
      "spot_cell1 -3869.6544442750615\n",
      "spot_cell2 -4467.530979834011\n",
      "spot_cell3 -5185.878894483656\n",
      "spot_cell4 -3687.42367820543\n",
      "spot_cell5 -5286.503831056861\n",
      "nospot_cell1 -7597.750132974828\n",
      "nospot_cell2 -6025.364797222968\n",
      "nospot_cell3 -3683.792346412559\n",
      "nospot_cell4 -3458.3137142561227\n",
      "nospot_cell5 -4817.742510727239\n"
     ]
    }
   ],
   "source": [
    "import numpy as np\n",
    "\n",
    "def gini_from_pixel_array(pixel_array_2d):\n",
    "    pixel_array_1d = pixel_array_2d.flatten()\n",
    "    sorted_pixel_array = np.sort(pixel_array_1d)\n",
    "    cumulative_pixel_values = np.cumsum(sorted_pixel_array)\n",
    "    total_pixel_values = cumulative_pixel_values[-1]\n",
    "    normalized_cumulative = cumulative_pixel_values / total_pixel_values\n",
    "    n = len(sorted_pixel_array)\n",
    "    lorenz_area = np.sum(normalized_cumulative) - (0.5 / n) - 0.5\n",
    "    gini_coefficient = (0.5 - lorenz_area) / 0.5\n",
    "    return gini_coefficient\n",
    "\n",
    "\n",
    "\n",
    "for name, sheet in sheet_to_df_map.items():\n",
    "    print(name, gini_from_pixel_array(sheet.values) )\n"
   ]
  },
  {
   "cell_type": "code",
   "execution_count": 52,
   "metadata": {},
   "outputs": [
    {
     "name": "stdout",
     "output_type": "stream",
     "text": [
      "-4817.742510727239\n"
     ]
    }
   ],
   "source": [
    "pixel_array_2d = sheet.values\n",
    "pixel_array_1d = pixel_array_2d.flatten()\n",
    "sorted_pixel_array = np.sort(pixel_array_1d)\n",
    "cumulative_pixel_values = np.cumsum(sorted_pixel_array)\n",
    "total_pixel_values = cumulative_pixel_values[-1]\n",
    "normalized_cumulative = cumulative_pixel_values / total_pixel_values\n",
    "n = len(sorted_pixel_array)\n",
    "lorenz_area = np.sum(normalized_cumulative) - (0.5 / n) - 0.5\n",
    "gini_coefficient = (0.5 - lorenz_area) / 0.5\n",
    "print(gini_coefficient)"
   ]
  },
  {
   "cell_type": "code",
   "execution_count": 54,
   "metadata": {},
   "outputs": [
    {
     "data": {
      "text/plain": [
       "(67, 75)"
      ]
     },
     "execution_count": 54,
     "metadata": {},
     "output_type": "execute_result"
    }
   ],
   "source": [
    "pixel_array_2d.shape"
   ]
  },
  {
   "cell_type": "code",
   "execution_count": 56,
   "metadata": {},
   "outputs": [
    {
     "data": {
      "text/plain": [
       "5025"
      ]
     },
     "execution_count": 56,
     "metadata": {},
     "output_type": "execute_result"
    }
   ],
   "source": [
    "n"
   ]
  },
  {
   "cell_type": "code",
   "execution_count": 57,
   "metadata": {},
   "outputs": [
    {
     "data": {
      "text/plain": [
       "2409.3712553636196"
      ]
     },
     "execution_count": 57,
     "metadata": {},
     "output_type": "execute_result"
    }
   ],
   "source": [
    "lorenz_area"
   ]
  },
  {
   "cell_type": "code",
   "execution_count": 93,
   "metadata": {},
   "outputs": [
    {
     "name": "stdout",
     "output_type": "stream",
     "text": [
      "spot_cell1 0.09139561525426168 0.39231125922543175\n",
      "spot_cell2 0.13534613519108665 0.4375363556890858\n",
      "spot_cell3 0.11000702366693461 0.41392546200996005\n",
      "spot_cell4 0.09862562986688489 0.40345291698666463\n",
      "spot_cell5 0.1193364427694055 0.4212840741751249\n",
      "nospot_cell1 0.05617311424878876 0.25086255466281926\n",
      "nospot_cell2 0.040845940413400415 0.21776953871651916\n",
      "nospot_cell3 0.0604812337112413 0.28316946467922255\n",
      "nospot_cell4 0.049639014016099665 0.24515418450236415\n",
      "nospot_cell5 0.041046226918962286 0.23384529597301784\n"
     ]
    }
   ],
   "source": [
    "def gini_from_pixel_array(pixel_array_2d):\n",
    "    # Flatten the 2D array into a 1D array.\n",
    "    pixel_array_1d = pixel_array_2d.flatten()\n",
    "    n = len(pixel_array_1d)\n",
    "    mean_pixel_value = np.mean(pixel_array_1d)\n",
    "    \n",
    "    # Calculate the sum of absolute differences.\n",
    "    abs_diff_sum = np.sum(np.abs(pixel_array_1d[:, None] - pixel_array_1d))\n",
    "    \n",
    "    # Apply the Gini coefficient formula.\n",
    "    gini_coefficient = abs_diff_sum / (2.0 * n**2 * mean_pixel_value)\n",
    "    \n",
    "    return gini_coefficient\n",
    "\n",
    "ginis = []\n",
    "for name, sheet in sheet_to_df_map.items():\n",
    "    hist, _ = np.histogram(sheet.values, bins=1_000_000)\n",
    "    df = pd.DataFrame({'bin_number': range(len(hist)), 'frequency': hist})\n",
    "\n",
    "    print(name, gini_from_pixel_array(sheet.values), calculate_gini(df))\n",
    "    label = 'nospot' not in name\n",
    "\n",
    "    ginis.append((name, label, gini_from_pixel_array(sheet.values), calculate_gini(df)))"
   ]
  },
  {
   "cell_type": "code",
   "execution_count": 72,
   "metadata": {},
   "outputs": [
    {
     "name": "stdout",
     "output_type": "stream",
     "text": [
      "spot_cell1 0.09139561525426168 0.09141707466145921\n",
      "spot_cell2 0.13534613519108665 0.1353723295272955\n",
      "spot_cell3 0.11000702366693461 0.11002590251087951\n",
      "spot_cell4 0.09862562986688489 0.09864973781845343\n",
      "spot_cell5 0.1193364427694055 0.11935632223680002\n",
      "nospot_cell1 0.05617311424878876 0.05618009227540351\n",
      "nospot_cell2 0.040845940413400415 0.040852442473319775\n",
      "nospot_cell3 0.0604812337112413 0.060496658662455585\n",
      "nospot_cell4 0.049639014016099665 0.04965265485534564\n",
      "nospot_cell5 0.041046226918962286 0.04105439694820571\n"
     ]
    }
   ],
   "source": [
    "def genie(data):    \n",
    "    flattened = np.sort(np.ravel(data))\n",
    "    npix = np.size(flattened)\n",
    "    normalization = np.abs(np.mean(flattened)) * npix * (npix - 1)\n",
    "    kernel = (2.0 * np.arange(1, npix + 1) - npix - 1) * np.abs(flattened)\n",
    "\n",
    "    return np.sum(kernel) / normalization\n",
    "\n",
    "\n",
    "ginis = []\n",
    "for name, sheet in sheet_to_df_map.items():\n",
    "    hist, _ = np.histogram(sheet.values)\n",
    "    df = pd.DataFrame({'bin_number': range(len(hist)), 'frequency': hist})\n",
    "\n",
    "    print(name, gini_from_pixel_array(sheet.values), genie(sheet.values))\n",
    "    ginis.append((label, gini_from_pixel_array(sheet.values), genie(sheet.values)))\n"
   ]
  },
  {
   "cell_type": "code",
   "execution_count": 96,
   "metadata": {},
   "outputs": [
    {
     "data": {
      "image/png": "[encoded data removed]",
      "text/plain": [
       "<Figure size 640x480 with 1 Axes>"
      ]
     },
     "metadata": {},
     "output_type": "display_data"
    }
   ],
   "source": [
    "\n",
    "import matplotlib.pyplot as plt \n",
    "\n",
    "names, labels, gini_vals, genies = zip(*ginis)\n",
    "\n",
    "plt.scatter(gini_vals, genies, c=labels)\n",
    "\n",
    "for i, name in enumerate(names):\n",
    "    plt.annotate(name, (gini_vals[i], genies[i]))\n",
    "\n",
    "plt.xlabel('Gini from pixel array')\n",
    "plt.ylabel('Gini from histogram')\n",
    "plt.title('Comparison of Gini Coefficients')\n",
    "plt.show()\n"
   ]
  },
  {
   "cell_type": "code",
   "execution_count": null,
   "metadata": {},
   "outputs": [],
   "source": []
  },
  {
   "cell_type": "code",
   "execution_count": null,
   "metadata": {},
   "outputs": [],
   "source": []
  }
 ],
 "metadata": {
  "kernelspec": {
   "display_name": "py3_11",
   "language": "python",
   "name": "python3"
  },
  "language_info": {
   "codemirror_mode": {
    "name": "ipython",
    "version": 3
   },
   "file_extension": ".py",
   "mimetype": "text/x-python",
   "name": "python",
   "nbconvert_exporter": "python",
   "pygments_lexer": "ipython3",
   "version": "3.11.5"
  }
 },
 "nbformat": 4,
 "nbformat_minor": 2
}
